{
 "cells": [
  {
   "cell_type": "markdown",
   "metadata": {},
   "source": [
    "# 4. Deep Models for Text and Sequence"
   ]
  },
  {
   "cell_type": "markdown",
   "metadata": {},
   "source": [
    "## Train a Text Embedding Model\n",
    "\n",
    "## Semantic Ambiguity\n",
    "\n",
    "A sentence may be interpreted in more than one way due to ambiguous sentence structure.\n",
    "\n",
    "## Unsupervised Learning\n",
    "\n",
    "## Embeddings\n",
    "cat, kitten, dog\n",
    "\n",
    "\n",
    "## Word2Vec\n",
    "\n",
    "The quick brown fox jumps over the lazy dog\n",
    "\n",
    "$V_{Fox}$\n",
    "\n",
    "## tSNE\n",
    "\n",
    "t-distributed stochastic neighbor embedding (tSNE): An algorithm for dimensionality reduction developed by Geoffrey Hinton and Laurens van der Maaten.\n",
    "\n",
    "PCA will loss too much information. Don't use it.\n",
    "\n",
    "Visualization of tSNE\n",
    "\n",
    "## Word2Vec Details\n",
    "\n",
    "Comparing embeddings\n",
    "\n",
    "Cosine distance\n",
    "\n",
    "$$COS: \\dfrac{V_{Cat}  V_{Kitten}}{||V_{Cat} ||  || V_{Kitten} ||}$$\n",
    "\n",
    "Unit norm\n",
    "\n",
    "Don't use $L_{2}$.\n",
    "\n",
    "Linear model:\n",
    "\n",
    "$$WV_{Cat}+b$$\n",
    "\n",
    "Random sampling\n",
    "\n",
    "Sampled Softmax\n",
    "\n",
    "## Quiz: Word Analogy Game\n",
    "\n",
    "## Analogies\n",
    "\n",
    "Word analogy\n",
    "\n",
    "$$V_{Puppy} - V_{Dog} ~ V_{Kitten} - V_{Cat}$$\n",
    "\n",
    "Syntactic analogy\n",
    "\n",
    "$$V_{Taller} - V_{Tall} ~ V_{Shorter} - V_{Short}$$\n",
    "\n",
    "\n",
    "## Assignment 5: Word2Vec and CBOW\n",
    "\n",
    "https://github.com/tensorflow/tensorflow/blob/master/tensorflow/examples/udacity/5_word2vec.ipynb\n",
    "\n",
    "## Sequences of Varying Length\n",
    "\n",
    "## RNNs\n",
    "\n",
    "Recurrent Neural Networks\n",
    "\n",
    "## Backprop Through time\n",
    "\n",
    "Vanishing / Exploding Gradients\n",
    "\n",
    "## Gradient Clipping\n",
    "\n",
    "## LSTM\n",
    "\n",
    "Long Short-Term Memory\n",
    "\n",
    "## Memory Cell\n",
    "\n",
    "## LSTM Cell\n",
    "\n",
    "## LSTM Cell 2\n",
    "\n",
    "## Regularization\n",
    "\n",
    "LSTM Regularization\n",
    "\n",
    "## Beam Search\n",
    "\n",
    "Predict multiple chars\n",
    "\n",
    "## Assignment 6: LSTMs\n",
    "\n",
    "https://github.com/tensorflow/tensorflow/blob/master/tensorflow/examples/udacity/6_lstm.ipynb\n",
    "\n",
    "## Play Legos\n",
    "\n",
    "## Captioning and Translation\n",
    "\n",
    "Trainable model:\n",
    "\n",
    "- Map variable-length sequence (input) to fixed-length vector (output).\n",
    "\n",
    "- Map fixed-length vector (input) to variable-length sequence (output).\n",
    "\n",
    "Implementations:\n",
    "\n",
    "- Machine translation.\n",
    "\n",
    "- Speech recognition – spectrum to words.\n",
    "\n",
    "- Conv net – map images to words (captions).\n",
    "\n",
    "http://mscoco.org\n",
    "\n",
    "## Course Outro\n",
    "\n",
    "\n",
    "\n",
    "\n",
    "\n",
    "\n",
    "\n",
    "\n",
    "\n",
    "\n"
   ]
  },
  {
   "cell_type": "code",
   "execution_count": null,
   "metadata": {
    "collapsed": true
   },
   "outputs": [],
   "source": []
  }
 ],
 "metadata": {
  "anaconda-cloud": {},
  "kernelspec": {
   "display_name": "Python 3",
   "language": "python",
   "name": "python3"
  },
  "language_info": {
   "codemirror_mode": {
    "name": "ipython",
    "version": 3
   },
   "file_extension": ".py",
   "mimetype": "text/x-python",
   "name": "python",
   "nbconvert_exporter": "python",
   "pygments_lexer": "ipython3",
   "version": "3.5.2"
  },
  "nbpresent": {
   "slides": {},
   "themes": {
    "default": "d3c7077f-058b-4ae7-a981-acf79cc951dd",
    "theme": {
     "d3c7077f-058b-4ae7-a981-acf79cc951dd": {
      "backgrounds": {
       "dc7afa04-bf90-40b1-82a5-726e3cff5267": {
        "background-color": "31af15d2-7e15-44c5-ab5e-e04b16a89eff",
        "id": "dc7afa04-bf90-40b1-82a5-726e3cff5267"
       }
      },
      "id": "d3c7077f-058b-4ae7-a981-acf79cc951dd",
      "palette": {
       "19cc588f-0593-49c9-9f4b-e4d7cc113b1c": {
        "id": "19cc588f-0593-49c9-9f4b-e4d7cc113b1c",
        "rgb": [
         252,
         252,
         252
        ]
       },
       "31af15d2-7e15-44c5-ab5e-e04b16a89eff": {
        "id": "31af15d2-7e15-44c5-ab5e-e04b16a89eff",
        "rgb": [
         68,
         68,
         68
        ]
       },
       "50f92c45-a630-455b-aec3-788680ec7410": {
        "id": "50f92c45-a630-455b-aec3-788680ec7410",
        "rgb": [
         197,
         226,
         245
        ]
       },
       "c5cc3653-2ee1-402a-aba2-7caae1da4f6c": {
        "id": "c5cc3653-2ee1-402a-aba2-7caae1da4f6c",
        "rgb": [
         43,
         126,
         184
        ]
       },
       "efa7f048-9acb-414c-8b04-a26811511a21": {
        "id": "efa7f048-9acb-414c-8b04-a26811511a21",
        "rgb": [
         25.118061674008803,
         73.60176211453744,
         107.4819383259912
        ]
       }
      },
      "rules": {
       "a": {
        "color": "19cc588f-0593-49c9-9f4b-e4d7cc113b1c"
       },
       "blockquote": {
        "color": "50f92c45-a630-455b-aec3-788680ec7410",
        "font-size": 3
       },
       "code": {
        "font-family": "Anonymous Pro"
       },
       "h1": {
        "color": "19cc588f-0593-49c9-9f4b-e4d7cc113b1c",
        "font-family": "Merriweather",
        "font-size": 8
       },
       "h2": {
        "color": "19cc588f-0593-49c9-9f4b-e4d7cc113b1c",
        "font-family": "Merriweather",
        "font-size": 6
       },
       "h3": {
        "color": "50f92c45-a630-455b-aec3-788680ec7410",
        "font-family": "Lato",
        "font-size": 5.5
       },
       "h4": {
        "color": "c5cc3653-2ee1-402a-aba2-7caae1da4f6c",
        "font-family": "Lato",
        "font-size": 5
       },
       "h5": {
        "font-family": "Lato"
       },
       "h6": {
        "font-family": "Lato"
       },
       "h7": {
        "font-family": "Lato"
       },
       "li": {
        "color": "50f92c45-a630-455b-aec3-788680ec7410",
        "font-size": 3.25
       },
       "pre": {
        "font-family": "Anonymous Pro",
        "font-size": 4
       }
      },
      "text-base": {
       "color": "19cc588f-0593-49c9-9f4b-e4d7cc113b1c",
       "font-family": "Lato",
       "font-size": 4
      }
     }
    }
   }
  }
 },
 "nbformat": 4,
 "nbformat_minor": 0
}
